{
 "cells": [
  {
   "cell_type": "code",
   "execution_count": 5,
   "id": "b85d3913",
   "metadata": {},
   "outputs": [
    {
     "name": "stderr",
     "output_type": "stream",
     "text": [
      "ffmpeg version 4.4.2-0ubuntu0.22.04.1 Copyright (c) 2000-2021 the FFmpeg developers\n",
      "  built with gcc 11 (Ubuntu 11.2.0-19ubuntu1)\n",
      "  configuration: --prefix=/usr --extra-version=0ubuntu0.22.04.1 --toolchain=hardened --libdir=/usr/lib/x86_64-linux-gnu --incdir=/usr/include/x86_64-linux-gnu --arch=amd64 --enable-gpl --disable-stripping --enable-gnutls --enable-ladspa --enable-libaom --enable-libass --enable-libbluray --enable-libbs2b --enable-libcaca --enable-libcdio --enable-libcodec2 --enable-libdav1d --enable-libflite --enable-libfontconfig --enable-libfreetype --enable-libfribidi --enable-libgme --enable-libgsm --enable-libjack --enable-libmp3lame --enable-libmysofa --enable-libopenjpeg --enable-libopenmpt --enable-libopus --enable-libpulse --enable-librabbitmq --enable-librubberband --enable-libshine --enable-libsnappy --enable-libsoxr --enable-libspeex --enable-libsrt --enable-libssh --enable-libtheora --enable-libtwolame --enable-libvidstab --enable-libvorbis --enable-libvpx --enable-libwebp --enable-libx265 --enable-libxml2 --enable-libxvid --enable-libzimg --enable-libzmq --enable-libzvbi --enable-lv2 --enable-omx --enable-openal --enable-opencl --enable-opengl --enable-sdl2 --enable-pocketsphinx --enable-librsvg --enable-libmfx --enable-libdc1394 --enable-libdrm --enable-libiec61883 --enable-chromaprint --enable-frei0r --enable-libx264 --enable-shared\n",
      "  libavutil      56. 70.100 / 56. 70.100\n",
      "  libavcodec     58.134.100 / 58.134.100\n",
      "  libavformat    58. 76.100 / 58. 76.100\n",
      "  libavdevice    58. 13.100 / 58. 13.100\n",
      "  libavfilter     7.110.100 /  7.110.100\n",
      "  libswscale      5.  9.100 /  5.  9.100\n",
      "  libswresample   3.  9.100 /  3.  9.100\n",
      "  libpostproc    55.  9.100 / 55.  9.100\n",
      "Input #0, mov,mp4,m4a,3gp,3g2,mj2, from 'prepa.mp4':\n",
      "  Metadata:\n",
      "    major_brand     : isom\n",
      "    minor_version   : 512\n",
      "    compatible_brands: isomiso2avc1mp41\n",
      "    encoder         : Lavf58.29.100\n",
      "  Duration: 01:28:55.75, start: 0.000000, bitrate: 1702 kb/s\n",
      "  Stream #0:0(und): Video: h264 (High) (avc1 / 0x31637661), yuv420p(tv, smpte170m), 720x480 [SAR 10:11 DAR 15:11], 1499 kb/s, 59.94 fps, 59.94 tbr, 90k tbn, 59.94 tbc (default)\n",
      "    Metadata:\n",
      "      handler_name    : VideoHandler\n",
      "      vendor_id       : [0][0][0][0]\n",
      "  Stream #0:1(und): Audio: aac (LC) (mp4a / 0x6134706D), 48000 Hz, stereo, fltp, 188 kb/s (default)\n",
      "    Metadata:\n",
      "      handler_name    : SoundHandler\n",
      "      vendor_id       : [0][0][0][0]\n",
      "File 'clip.mp4' already exists. Overwrite? [y/N] Not overwriting - exiting\n"
     ]
    },
    {
     "data": {
      "text/plain": [
       "1"
      ]
     },
     "execution_count": 5,
     "metadata": {},
     "output_type": "execute_result"
    }
   ],
   "source": [
    "import subprocess\n",
    "\n",
    "input_file = \"prepa.mp4\"\n",
    "output_file = \"clip.mp4\"\n",
    "start_time = \"00:00:00\"\n",
    "duration = \"00:00:10\"\n",
    "\n",
    "# Use FFmpeg to extract the clip\n",
    "subprocess.call([\"ffmpeg\", \"-i\", input_file, \"-ss\", start_time, \"-t\", duration, \"-c\", \"copy\", output_file])"
   ]
  },
  {
   "cell_type": "code",
   "execution_count": 1,
   "id": "f6a43251",
   "metadata": {},
   "outputs": [],
   "source": [
    "# !export XLA_FLAGS=--xla_gpu_cuda_data_dir=/usr/local/cuda/\n",
    "!export CUDA_DIR=/usr/lib/cuda/\n",
    "# !export LD_LIBRARY_PATH=/usr/local/cuda-11.8/lib64:/home/pedro/miniconda3/envs/ml2/lib/\n",
    "# !export TF_GPU_ALLOCATOR=cuda_malloc_async"
   ]
  },
  {
   "cell_type": "code",
   "execution_count": 9,
   "id": "64b31bf9",
   "metadata": {},
   "outputs": [],
   "source": [
    "import cv2\n",
    "import numpy as np\n",
    "import tensorflow as tf\n",
    "import time\n",
    "from IPython import display # If using IPython, Colab or Jupyter\n",
    "\n",
    "# Load the video\n",
    "cap = cv2.VideoCapture(\"clip.mp4\")\n",
    "\n",
    "# Get video information\n",
    "fps = cap.get(cv2.CAP_PROP_FPS)\n",
    "width = int(cap.get(cv2.CAP_PROP_FRAME_WIDTH))\n",
    "height = int(cap.get(cv2.CAP_PROP_FRAME_HEIGHT))\n",
    "fourcc = cv2.VideoWriter_fourcc(*\"mp4v\")\n",
    "\n",
    "# Load the TensorFlow model\n",
    "model = tf.keras.models.load_model('./saved_models/denoise_autoencoder')\n",
    "\n",
    "print(f\"fps={fps} fourcc={fourcc}\")\n",
    "\n",
    "# Initialize the output video writer\n",
    "out = cv2.VideoWriter(\"output_video.mp4\", fourcc, fps/2, (1080, 720))\n",
    "\n",
    "while True:\n",
    "    # Read a frame from the video\n",
    "    ret, frame = cap.read()\n",
    "    \n",
    "    # Break the loop if the video has ended\n",
    "    if not ret:\n",
    "        break\n",
    "\n",
    "    # Preprocess the frame\n",
    "#     frame = cv2.resize(frame, (224, 224))\n",
    "#     frame = frame / 255.0\n",
    "    frame = frame.astype(\"float32\")\n",
    "    frame = np.expand_dims(frame, axis=0)\n",
    "    \n",
    "    # Pass the frame through the model\n",
    "    with open(os.devnull, \"w\") as f:\n",
    "        prediction = model.predict(frame)\n",
    "    display.clear_output()\n",
    "\n",
    "    # Postprocess the prediction\n",
    "    prediction = np.squeeze(prediction, axis=0)\n",
    "    prediction = np.round(prediction).astype(\"uint8\")\n",
    "\n",
    "    # Write the processed frame to the output video\n",
    "    out.write(prediction)\n",
    "    time.sleep(1.0 / fps)\n",
    "\n",
    "# Release the video capture and writer objects\n",
    "cap.release()\n",
    "out.release()"
   ]
  },
  {
   "cell_type": "code",
   "execution_count": null,
   "id": "15beb7cc",
   "metadata": {},
   "outputs": [],
   "source": []
  }
 ],
 "metadata": {
  "kernelspec": {
   "display_name": "Python 3 (ipykernel)",
   "language": "python",
   "name": "python3"
  },
  "language_info": {
   "codemirror_mode": {
    "name": "ipython",
    "version": 3
   },
   "file_extension": ".py",
   "mimetype": "text/x-python",
   "name": "python",
   "nbconvert_exporter": "python",
   "pygments_lexer": "ipython3",
   "version": "3.9.15"
  }
 },
 "nbformat": 4,
 "nbformat_minor": 5
}
