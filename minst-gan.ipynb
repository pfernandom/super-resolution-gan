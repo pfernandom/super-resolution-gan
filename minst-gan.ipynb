{
 "cells": [
  {
   "cell_type": "code",
   "execution_count": 1,
   "metadata": {},
   "outputs": [],
   "source": [
    "!export XLA_FLAGS=--xla_gpu_cuda_data_dir=/usr/local/cuda-11.8/\n",
    "!export CUDA_DIR=\"/usr/local/cuda-11.8/\"\n",
    "!export TF_GPU_ALLOCATOR=cuda_malloc_async"
   ]
  },
  {
   "cell_type": "code",
   "execution_count": 2,
   "metadata": {},
   "outputs": [
    {
     "name": "stderr",
     "output_type": "stream",
     "text": [
      "2022-11-15 07:58:59.525440: I tensorflow/core/platform/cpu_feature_guard.cc:193] This TensorFlow binary is optimized with oneAPI Deep Neural Network Library (oneDNN) to use the following CPU instructions in performance-critical operations:  AVX2 FMA\n",
      "To enable them in other operations, rebuild TensorFlow with the appropriate compiler flags.\n",
      "2022-11-15 07:58:59.617563: E tensorflow/stream_executor/cuda/cuda_blas.cc:2981] Unable to register cuBLAS factory: Attempting to register factory for plugin cuBLAS when one has already been registered\n",
      "2022-11-15 07:59:00.011514: W tensorflow/stream_executor/platform/default/dso_loader.cc:64] Could not load dynamic library 'libnvinfer.so.7'; dlerror: libnvrtc.so.11.0: cannot open shared object file: No such file or directory; LD_LIBRARY_PATH: /usr/local/lib:/usr/lib64:/home/pedro/miniconda3/envs/ml2/lib/:/usr/local/cuda-11.8/lib64/lib\n",
      "2022-11-15 07:59:00.011555: W tensorflow/stream_executor/platform/default/dso_loader.cc:64] Could not load dynamic library 'libnvinfer_plugin.so.7'; dlerror: libnvinfer_plugin.so.7: cannot open shared object file: No such file or directory; LD_LIBRARY_PATH: /usr/local/lib:/usr/lib64:/home/pedro/miniconda3/envs/ml2/lib/:/usr/local/cuda-11.8/lib64/lib\n",
      "2022-11-15 07:59:00.011559: W tensorflow/compiler/tf2tensorrt/utils/py_utils.cc:38] TF-TRT Warning: Cannot dlopen some TensorRT libraries. If you would like to use Nvidia GPU with TensorRT, please make sure the missing libraries mentioned above are installed properly.\n",
      "2022-11-15 07:59:00.598047: I tensorflow/stream_executor/cuda/cuda_gpu_executor.cc:980] successful NUMA node read from SysFS had negative value (-1), but there must be at least one NUMA node, so returning NUMA node zero\n",
      "2022-11-15 07:59:00.598325: I tensorflow/stream_executor/cuda/cuda_gpu_executor.cc:980] successful NUMA node read from SysFS had negative value (-1), but there must be at least one NUMA node, so returning NUMA node zero\n",
      "2022-11-15 07:59:00.603567: I tensorflow/stream_executor/cuda/cuda_gpu_executor.cc:980] successful NUMA node read from SysFS had negative value (-1), but there must be at least one NUMA node, so returning NUMA node zero\n",
      "2022-11-15 07:59:00.603810: I tensorflow/stream_executor/cuda/cuda_gpu_executor.cc:980] successful NUMA node read from SysFS had negative value (-1), but there must be at least one NUMA node, so returning NUMA node zero\n",
      "2022-11-15 07:59:00.604054: I tensorflow/stream_executor/cuda/cuda_gpu_executor.cc:980] successful NUMA node read from SysFS had negative value (-1), but there must be at least one NUMA node, so returning NUMA node zero\n",
      "2022-11-15 07:59:00.604269: I tensorflow/stream_executor/cuda/cuda_gpu_executor.cc:980] successful NUMA node read from SysFS had negative value (-1), but there must be at least one NUMA node, so returning NUMA node zero\n"
     ]
    },
    {
     "name": "stdout",
     "output_type": "stream",
     "text": [
      "gpus=[PhysicalDevice(name='/physical_device:GPU:0', device_type='GPU'), PhysicalDevice(name='/physical_device:GPU:1', device_type='GPU')]\n"
     ]
    }
   ],
   "source": [
    "import tensorflow as tf\n",
    "import tensorflow.keras as keras\n",
    "\n",
    "\n",
    "gpus = tf.config.list_physical_devices(\"GPU\")\n",
    "print(f\"gpus={gpus}\")\n",
    "\n",
    "from tensorflow.keras.datasets import mnist\n",
    "from tensorflow.keras import layers\n",
    "from tensorflow.keras.layers import Dense, Input, Flatten,\\\n",
    "                                    Reshape, LeakyReLU as LR,\\\n",
    "                                    Activation, Dropout\n",
    "from tensorflow.keras.models import Model, Sequential\n",
    "from matplotlib import pyplot as plt\n",
    "from IPython import display # If using IPython, Colab or Jupyter\n",
    "import numpy as np\n",
    "import tensorflow_addons as tfa\n",
    "import datetime\n",
    "import random\n",
    "import time"
   ]
  },
  {
   "cell_type": "code",
   "execution_count": 3,
   "metadata": {},
   "outputs": [],
   "source": [
    "mnist = tf.keras.datasets.fashion_mnist\n",
    "\n",
    "\n",
    "(x_train, y_train), (x_test, y_test) = mnist.load_data()"
   ]
  },
  {
   "cell_type": "code",
   "execution_count": null,
   "metadata": {},
   "outputs": [],
   "source": []
  },
  {
   "cell_type": "code",
   "execution_count": 4,
   "metadata": {},
   "outputs": [
    {
     "name": "stderr",
     "output_type": "stream",
     "text": [
      "2022-11-15 07:59:01.231281: I tensorflow/core/platform/cpu_feature_guard.cc:193] This TensorFlow binary is optimized with oneAPI Deep Neural Network Library (oneDNN) to use the following CPU instructions in performance-critical operations:  AVX2 FMA\n",
      "To enable them in other operations, rebuild TensorFlow with the appropriate compiler flags.\n",
      "2022-11-15 07:59:01.331624: I tensorflow/stream_executor/cuda/cuda_gpu_executor.cc:980] successful NUMA node read from SysFS had negative value (-1), but there must be at least one NUMA node, so returning NUMA node zero\n",
      "2022-11-15 07:59:01.331830: I tensorflow/stream_executor/cuda/cuda_gpu_executor.cc:980] successful NUMA node read from SysFS had negative value (-1), but there must be at least one NUMA node, so returning NUMA node zero\n",
      "2022-11-15 07:59:01.332009: I tensorflow/stream_executor/cuda/cuda_gpu_executor.cc:980] successful NUMA node read from SysFS had negative value (-1), but there must be at least one NUMA node, so returning NUMA node zero\n",
      "2022-11-15 07:59:01.332175: I tensorflow/stream_executor/cuda/cuda_gpu_executor.cc:980] successful NUMA node read from SysFS had negative value (-1), but there must be at least one NUMA node, so returning NUMA node zero\n",
      "2022-11-15 07:59:01.332343: I tensorflow/stream_executor/cuda/cuda_gpu_executor.cc:980] successful NUMA node read from SysFS had negative value (-1), but there must be at least one NUMA node, so returning NUMA node zero\n",
      "2022-11-15 07:59:01.332531: I tensorflow/stream_executor/cuda/cuda_gpu_executor.cc:980] successful NUMA node read from SysFS had negative value (-1), but there must be at least one NUMA node, so returning NUMA node zero\n",
      "2022-11-15 07:59:01.909343: I tensorflow/stream_executor/cuda/cuda_gpu_executor.cc:980] successful NUMA node read from SysFS had negative value (-1), but there must be at least one NUMA node, so returning NUMA node zero\n",
      "2022-11-15 07:59:01.909565: I tensorflow/stream_executor/cuda/cuda_gpu_executor.cc:980] successful NUMA node read from SysFS had negative value (-1), but there must be at least one NUMA node, so returning NUMA node zero\n",
      "2022-11-15 07:59:01.909760: I tensorflow/stream_executor/cuda/cuda_gpu_executor.cc:980] successful NUMA node read from SysFS had negative value (-1), but there must be at least one NUMA node, so returning NUMA node zero\n",
      "2022-11-15 07:59:01.909929: I tensorflow/stream_executor/cuda/cuda_gpu_executor.cc:980] successful NUMA node read from SysFS had negative value (-1), but there must be at least one NUMA node, so returning NUMA node zero\n",
      "2022-11-15 07:59:01.910102: I tensorflow/stream_executor/cuda/cuda_gpu_executor.cc:980] successful NUMA node read from SysFS had negative value (-1), but there must be at least one NUMA node, so returning NUMA node zero\n",
      "2022-11-15 07:59:01.910268: I tensorflow/core/common_runtime/gpu/gpu_device.cc:1616] Created device /job:localhost/replica:0/task:0/device:GPU:0 with 9787 MB memory:  -> device: 0, name: NVIDIA GeForce RTX 3060, pci bus id: 0000:09:00.0, compute capability: 8.6\n",
      "2022-11-15 07:59:01.910513: I tensorflow/stream_executor/cuda/cuda_gpu_executor.cc:980] successful NUMA node read from SysFS had negative value (-1), but there must be at least one NUMA node, so returning NUMA node zero\n",
      "2022-11-15 07:59:01.910672: I tensorflow/core/common_runtime/gpu/gpu_device.cc:1616] Created device /job:localhost/replica:0/task:0/device:GPU:1 with 1593 MB memory:  -> device: 1, name: NVIDIA GeForce GTX 960, pci bus id: 0000:04:00.0, compute capability: 5.2\n"
     ]
    },
    {
     "data": {
      "image/png": "[encoded data removed]",
      "text/plain": [
       "<Figure size 1000x400 with 10 Axes>"
      ]
     },
     "metadata": {},
     "output_type": "display_data"
    }
   ],
   "source": [
    "from utils import NoiseUtil, ImgUtils, DataLoader, DataManager\n",
    "           \n",
    "def train_get():\n",
    "   for x, y in zip(x_train, y_train):\n",
    "        x = tf.expand_dims(x, axis=2)\n",
    "        yield x\n",
    "\n",
    "def test_get():\n",
    "   for x in x_test:\n",
    "        x = tf.expand_dims(x, axis=2)\n",
    "        yield x\n",
    "\n",
    "\n",
    "def add_noise(x,y):\n",
    "#     n = NoiseUtil.pixel_noise(x, 25, 5)\n",
    "\n",
    "    n = x + 0.4 * tf.random.normal(\n",
    "        x.shape[1:],\n",
    "        mean=0.0,\n",
    "        stddev=1.0,\n",
    "        dtype=tf.dtypes.float32,\n",
    "    )\n",
    "\n",
    "    return n,y\n",
    "dm = DataManager.create_label_with_input_transform(train_get, test_get, (28,28,1), add_noise)\n",
    "dm.print_validation() "
   ]
  },
  {
   "cell_type": "code",
   "execution_count": 5,
   "metadata": {},
   "outputs": [],
   "source": [
    "# it = iter(dm.get_test_data(2))\n",
    "# i,j = next(it)\n",
    "# plt.imshow(ImgUtils.denormalize(j, cast=tf.uint8)[1])\n",
    "# plt.figure()\n",
    "# plt.imshow(ImgUtils.denormalize(NoiseUtil.pixel_noise(j, 10, 5), cast=tf.uint8)[1])"
   ]
  },
  {
   "cell_type": "code",
   "execution_count": 6,
   "metadata": {},
   "outputs": [],
   "source": [
    "# im = tf.reshape(tf.constant(range(2*12*12*1)), (2,12,12,1))\n",
    "\n",
    "# NoiseUtil.pixel_noise(im, 10, 2)[:,:,:,0]"
   ]
  },
  {
   "cell_type": "code",
   "execution_count": 7,
   "metadata": {},
   "outputs": [
    {
     "name": "stdout",
     "output_type": "stream",
     "text": [
      "(28, 28)\n"
     ]
    }
   ],
   "source": [
    "print(x_test[0].shape)"
   ]
  },
  {
   "cell_type": "code",
   "execution_count": 8,
   "metadata": {},
   "outputs": [],
   "source": [
    "LATENT_SIZE = 32"
   ]
  },
  {
   "cell_type": "code",
   "execution_count": 9,
   "metadata": {},
   "outputs": [],
   "source": [
    "def get_conv_t(filters, norm=False):\n",
    "    conv = tf.keras.Sequential()\n",
    "    if norm:\n",
    "        conv.add(tfa.layers.SpectralNormalization(\n",
    "            layers.Conv2DTranspose(filters, 2, 2, padding=\"same\")\n",
    "        ))\n",
    "    else:\n",
    "        conv.add(layers.Conv2DTranspose(filters, 2, 2, padding=\"same\"))\n",
    "    conv.add(layers.LeakyReLU())\n",
    "    return conv\n",
    "\n",
    "class InceptionBlock(layers.Layer):\n",
    "\n",
    "    def __init__(self, filters=32, strides=1):\n",
    "        super(InceptionBlock, self).__init__()\n",
    "        self.filters = filters\n",
    "        self.strides = strides\n",
    "    \n",
    "    def build(self, input_shape):  # Create the state of the layer (weights)\n",
    "        filters = self.filters\n",
    "        self.dropout = layers.Dropout(0.5)\n",
    "        self.conv_x1 = get_conv(filters, kernel=2, strides=self.strides)\n",
    "        self.conv_x2 = get_conv(filters, kernel=3, strides=self.strides)\n",
    "        self.conv_x3 = get_conv(filters, kernel=5, strides=self.strides)\n",
    "        self.out = get_conv(filters, kernel=1, strides=1)\n",
    "\n",
    "    def call(self, inputs):  # Defines the computation from inputs to outputs\n",
    "        x1 = self.conv_x1(inputs)\n",
    "        x2 = self.conv_x2(inputs)\n",
    "        x3 = self.conv_x3(inputs)\n",
    "\n",
    "        x = tf.concat([x1,x2,x3], axis=-1)\n",
    "#         x = self.dropout(x)\n",
    "        x = self.out(x)\n",
    "        return x\n",
    "\n",
    "def get_conv(filters, kernel=2, strides=2, norm=False):\n",
    "    conv = tf.keras.Sequential()\n",
    "    if norm:\n",
    "        conv.add(tfa.layers.SpectralNormalization(\n",
    "            layers.Conv2D(filters, kernel, strides, padding=\"same\")\n",
    "        ))\n",
    "    else:\n",
    "        conv.add(layers.Conv2D(filters, kernel, strides, padding=\"same\"))\n",
    "    conv.add(layers.LeakyReLU())\n",
    "    return conv\n",
    "    \n",
    "def get_encoder():\n",
    "    encoder = tf.keras.Sequential(name=\"encoder\")\n",
    "    # encoder.add(layers.GaussianDropout(0.2))\n",
    "    encoder.add(InceptionBlock(32))\n",
    "    encoder.add(layers.Dropout(0.5))\n",
    "    \n",
    "    encoder.add(get_conv(128, 3, 1, norm=True))\n",
    "    encoder.add(layers.Dropout(0.5))\n",
    "    \n",
    "    encoder.add(get_conv(256, 3, 2, norm=True))\n",
    "    encoder.add(layers.Dropout(0.5))\n",
    "\n",
    "    encoder.add(get_conv(512, 3, 2, norm=True))\n",
    "    encoder.add(layers.Dropout(0.5))\n",
    "    return encoder\n",
    "\n",
    "def get_decoder():\n",
    "    decoder = tf.keras.Sequential(name=\"decoder\")\n",
    "    decoder.add(get_conv_t(256, norm=True))\n",
    "    decoder.add(layers.Dropout(0.5))\n",
    "    decoder.add(get_conv(128, 3, 1))\n",
    "    decoder.add(layers.Dropout(0.5))\n",
    "    decoder.add(get_conv_t(32))\n",
    "    decoder.add(layers.Dropout(0.5))\n",
    "    decoder.add(get_conv(3, 1, 1))\n",
    "    decoder.add(layers.Dropout(0.5))\n",
    "    decoder.add(layers.Conv2D(1, 3, padding='same', activation='sigmoid'))\n",
    "    return decoder\n",
    "\n",
    "class AutoEncoder(tf.keras.Model):\n",
    "  def __init__(self):\n",
    "    super(AutoEncoder, self).__init__()\n",
    "    \n",
    "  def build(self, input_shape):\n",
    "    self.encoder = get_encoder()\n",
    "    self.decoder = get_decoder()\n",
    "    self.encoder.build(input_shape=input_shape)\n",
    "    sh = self.encoder.output_shape\n",
    "    self.flatten = layers.Flatten()\n",
    "    self.seq1 = layers.Dense(1024)\n",
    "    self.reshape = layers.Reshape([*sh[1:]])\n",
    "    self.inputs_dropout = layers.Dropout(0.5)\n",
    "\n",
    "    \n",
    "  def call(self, inputs):\n",
    "#     x = self.inputs_dropout(inputs)\n",
    "    x = self.encoder(inputs)\n",
    "    x = self.flatten(x)\n",
    "    x = self.reshape(x)\n",
    "    x = self.inputs_dropout(x)\n",
    "    x = self.decoder(x)\n",
    "    \n",
    "    # x_inputs = self.conv_input(inputs)\n",
    "    \n",
    "    # x = self.add([x * self.gamma, x_inputs])\n",
    "    # x = self.attention(x)\n",
    "#     x = self.last(x)\n",
    "    return x"
   ]
  },
  {
   "cell_type": "code",
   "execution_count": 10,
   "metadata": {},
   "outputs": [],
   "source": [
    "disc_enc = tf.keras.Sequential(name=\"disc_encoder\")\n",
    "    # encoder.add(layers.GaussianDropout(0.2))\n",
    "disc_enc.add(InceptionBlock(32))\n",
    "\n",
    "disc_enc.add(get_conv(128, 3, 1, norm=True))\n",
    "\n",
    "disc_enc.add(get_conv(256, 3, 2, norm=True))\n",
    "\n",
    "disc_enc.add(get_conv(512, 3, 2, norm=True))\n",
    "\n",
    "class Discriminator(tf.keras.Model):\n",
    "    def __init__(self):\n",
    "        super(Discriminator, self).__init__()\n",
    "\n",
    "    def build(self, input_shape):\n",
    "        self.encoder = disc_enc\n",
    "        self.encoder.build(input_shape=input_shape)\n",
    "        self.flatten = layers.Flatten()\n",
    "        self.seq1 = layers.Dense(1024)\n",
    "#         self.seq2 = layers.Dense(256)\n",
    "        self.seq3 = layers.Dense(1)\n",
    "        self.relu = layers.LeakyReLU()\n",
    "        self.softmax = layers.Softmax()\n",
    "        self.dropout = layers.Dropout(0.5)\n",
    "        \n",
    "    def call(self, inputs):\n",
    "        x = self.encoder(inputs)\n",
    "        x = self.flatten(x)\n",
    "        x = self.seq1(x)\n",
    "        x = self.relu(x)\n",
    "        x = self.flatten(x)\n",
    "        x = self.seq3(x)\n",
    "        return x"
   ]
  },
  {
   "cell_type": "code",
   "execution_count": 11,
   "metadata": {},
   "outputs": [],
   "source": [
    "cross_entropy = tf.keras.losses.BinaryCrossentropy(from_logits=True)\n",
    "mse = keras.losses.MeanSquaredError()\n",
    "\n",
    "def discriminator_loss(real_output, fake_output):\n",
    "    real_loss = cross_entropy(tf.ones_like(real_output), real_output)\n",
    "    fake_loss = cross_entropy(tf.zeros_like(fake_output), fake_output)\n",
    "    total_loss = real_loss + fake_loss\n",
    "    return total_loss\n",
    "\n",
    "def generator_loss(real_output, fake_output):\n",
    "    return cross_entropy(tf.ones_like(fake_output), fake_output)\n",
    "\n"
   ]
  },
  {
   "cell_type": "code",
   "execution_count": 12,
   "metadata": {},
   "outputs": [],
   "source": [
    "BATCH_SIZE = 25\n",
    "epochs=100\n",
    "steps_per_epoch=500"
   ]
  },
  {
   "cell_type": "code",
   "execution_count": 13,
   "metadata": {},
   "outputs": [],
   "source": [
    "class GAN(tf.keras.Model):\n",
    "    def __init__(self, generator, discriminator):\n",
    "        super(GAN, self).__init__(name=\"GAN\")\n",
    "        self.generator = generator\n",
    "        self.discriminator = discriminator\n",
    "        \n",
    "        boundaries = [steps_per_epoch*10, steps_per_epoch*25, steps_per_epoch*60, steps_per_epoch*90, steps_per_epoch*95]\n",
    "        values = [0.001, 0.00075, 0.0005, 0.0001, 0.00005, 0.00001]\n",
    "        gen_lr = keras.optimizers.schedules.PiecewiseConstantDecay(\n",
    "            boundaries, values)\n",
    "#         gen_lr = 0.00001\n",
    "        disc_lr = 0.00001\n",
    "        self.generator_optimizer = tf.keras.optimizers.Adam(learning_rate=gen_lr, beta_1=0.5)\n",
    "        self.discriminator_optimizer = tf.keras.optimizers.Adam(learning_rate=disc_lr, beta_1=0.5)\n",
    "        self.gen_loss_tracker = keras.metrics.Mean(name=\"gen_loss\")\n",
    "        self.disc_loss_tracker = keras.metrics.Mean(name=\"disc_loss\")\n",
    "\n",
    "#         self.gen_loss = tf.keras.metrics.Mean(name='gen_loss')\n",
    "#         self.disc_loss = tf.keras.metrics.Mean(name='disc_loss')\n",
    "#         self.gen_eval_loss = tf.keras.metrics.Mean(name='gen_eval_loss')\n",
    "        \n",
    "#         self.disc_train_loss = tf.keras.metrics.Mean(name='disc_train_loss')\n",
    "#         self.disc_eval_loss = tf.keras.metrics.Mean(name='disc_eval_loss')\n",
    "        \n",
    "    def call(self, all_images, training=False):\n",
    "        resized, images = all_images\n",
    "        generated_images = self.generator(resized, training=training)\n",
    "#         fake_output = self.discriminator(generated_images, training=False)\n",
    "#         gen_loss = generator_loss(fake_output)\n",
    "#         self.add_loss(gen_loss)\n",
    "        return generated_images, images\n",
    "\n",
    "\n",
    "    def test_step(self, all_images):\n",
    "        # Unpack the data\n",
    "        resized, images = all_images\n",
    "        discriminator = self.discriminator\n",
    "        generator = self.generator\n",
    "        \n",
    "        generated_images = generator(resized, training=False)\n",
    "\n",
    "        real_output = discriminator(images, training=False)\n",
    "        fake_output = discriminator(generated_images, training=False)\n",
    "\n",
    "        # Updates the metrics tracking the loss\n",
    "#         self.compiled_loss(real_output, fake_output, regularization_losses=self.losses)\n",
    "        # Update the metrics.\n",
    "        self.compiled_metrics.update_state(images, generated_images)\n",
    "        \n",
    "        \n",
    "        gen_loss = generator_loss(real_output, fake_output)\n",
    "        disc_loss = discriminator_loss(real_output, fake_output)\n",
    "        mse_loss = mse(images, generated_images)\n",
    "        gen_loss+=mse_loss\n",
    "            \n",
    "        self.gen_loss_tracker.update_state(gen_loss)\n",
    "        self.disc_loss_tracker.update_state(disc_loss)\n",
    "        # Return a dict mapping metric names to current value.\n",
    "        # Note that it will include the loss (tracked in self.metrics).\n",
    "        return {m.name: m.result() for m in self.metrics} \n",
    "    \n",
    "        \n",
    "    def train_step(self, all_images):\n",
    "        resized, images = all_images\n",
    "        discriminator = self.discriminator\n",
    "        generator = self.generator\n",
    "        generator_optimizer = self.generator_optimizer\n",
    "        discriminator_optimizer = self.discriminator_optimizer\n",
    "        \n",
    "        with tf.GradientTape() as gen_tape:\n",
    "            \n",
    "            generated_images = generator(resized, training=True)\n",
    "\n",
    "            real_output = discriminator(images, training=False)\n",
    "            fake_output = discriminator(generated_images, training=False)\n",
    "            gen_loss = generator_loss(real_output, fake_output)\n",
    "            \n",
    "            mse_loss = mse(images, generated_images)\n",
    "            gen_loss+=mse_loss\n",
    "            \n",
    "        with tf.GradientTape() as disc_tape:\n",
    "            \n",
    "            generated_images = generator(resized, training=False)\n",
    "\n",
    "            real_output = discriminator(images, training=True)\n",
    "            fake_output = discriminator(generated_images, training=True)\n",
    "\n",
    "            disc_loss = discriminator_loss(real_output, fake_output)\n",
    "\n",
    "        gradients_of_generator = gen_tape.gradient(gen_loss, generator.trainable_variables)\n",
    "        gradients_of_discriminator = disc_tape.gradient(disc_loss, discriminator.trainable_variables)\n",
    "\n",
    "        generator_optimizer.apply_gradients(zip(gradients_of_generator, generator.trainable_variables))\n",
    "        discriminator_optimizer.apply_gradients(zip(gradients_of_discriminator, discriminator.trainable_variables))\n",
    "#       \n",
    "#         self.compiled_loss(real_output, fake_output, regularization_losses=self.losses)\n",
    "        self.compiled_metrics.update_state(images, generated_images)\n",
    "        self.gen_loss_tracker.update_state(gen_loss)\n",
    "        self.disc_loss_tracker.update_state(disc_loss)\n",
    "\n",
    "        # Return a dict mapping metric names to current value.\n",
    "        # Note that it will include the loss (tracked in self.metrics).\n",
    "        return {m.name: m.result() for m in self.metrics}"
   ]
  },
  {
   "cell_type": "code",
   "execution_count": 14,
   "metadata": {},
   "outputs": [],
   "source": [
    "from utils import SSIM, SSIM_Multiscale"
   ]
  },
  {
   "cell_type": "code",
   "execution_count": 18,
   "metadata": {},
   "outputs": [
    {
     "name": "stdout",
     "output_type": "stream",
     "text": [
      "t=[[-4.511616 ]\n",
      " [-5.4656057]\n",
      " [-4.254473 ]\n",
      " [-3.8680925]\n",
      " [-4.700746 ]]\n",
      "f=[[-3.2621398]\n",
      " [-4.1400857]\n",
      " [-2.7652712]\n",
      " [-2.6300893]\n",
      " [-3.9400804]]\n"
     ]
    },
    {
     "data": {
      "image/png": "[encoded data removed]",
      "text/plain": [
       "<Figure size 1000x400 with 10 Axes>"
      ]
     },
     "metadata": {},
     "output_type": "display_data"
    },
    {
     "name": "stdout",
     "output_type": "stream",
     "text": [
      "500/500 [==============================] - 27s 54ms/step - mse: 0.1221 - accuracy: 0.5439 - ssim: 0.9329 - gen_loss: 15.5517 - disc_loss: 15.4249 - val_mse: 0.1154 - val_accuracy: 0.5380 - val_ssim: 0.8421 - val_gen_loss: 15.5403 - val_disc_loss: 15.4249\n"
     ]
    }
   ],
   "source": [
    "current_time = datetime.datetime.now().strftime(\"%Y%m%d-%H%M%S\")\n",
    "train_log_dir = f'logs/minst/minst_gan'\n",
    "tboard_callback = tf.keras.callbacks.TensorBoard(log_dir = train_log_dir,\n",
    "  write_graph=True,\n",
    "  histogram_freq = 1,\n",
    "  update_freq=\"batch\"\n",
    "  )\n",
    "\n",
    "EPOCHS = 60\n",
    "generator = AutoEncoder()\n",
    "discriminator = Discriminator()\n",
    "model = GAN(generator, discriminator)\n",
    "\n",
    "class SkMetrics(keras.callbacks.Callback):\n",
    "    def on_train_begin(self, logs={}):\n",
    "        self.validation_loss = []\n",
    "        self.epoch_n = 0\n",
    "        self.start = time.time()\n",
    "        tf.summary.scalar(\"start_time\", self.start )\n",
    "\n",
    "    def on_train_end(self, logs={}):\n",
    "        self.end = time.time()\n",
    "        tf.summary.scalar(\"end_time\", self.end )\n",
    "        tf.summary.scalar(\"training_time\", self.end-self.start)\n",
    "\n",
    "    def on_epoch_begin(self, epoch, logs):\n",
    "        self.epoch_start = time.time()\n",
    "        tf.summary.scalar(\"epoch_start_time\", self.epoch_start, step=epoch)\n",
    "\n",
    "    def on_epoch_end(self, epoch, logs):\n",
    "        self.epoch_n = epoch\n",
    "        self.epoch_end = time.time()\n",
    "        tf.summary.scalar(\"epoch_end_time\", self.epoch_end, step=epoch)\n",
    "        tf.summary.scalar(\"epoch_total_time\", self.epoch_end-self.epoch_start, step=epoch)\n",
    "\n",
    "    def on_batch_end(self, batch, logs={}):\n",
    "        def expand_and_predict(x):\n",
    "            gen = model.generator(x, training=False)\n",
    "            t = discriminator(x)\n",
    "            f = discriminator(gen)\n",
    "            print(f\"t={t}\")\n",
    "            print(f\"f={f}\")\n",
    "            \n",
    "            return gen\n",
    "        if batch % 499 == 0 and batch > 0:\n",
    "            display.clear_output()\n",
    "            dm.print_validation(expand_and_predict)\n",
    "        \n",
    "class GeneratorLoss(keras.losses.Loss):\n",
    "    def __init__(self, name=\"GeneratorLoss\"):\n",
    "        super().__init__(name=name)\n",
    "\n",
    "    def call(self, y_true, y_pred):\n",
    "        print(\"genloss\")\n",
    "        return generator_loss(y_true, y_pred)\n",
    "    \n",
    "class DiscriminatorLoss(keras.losses.Loss):\n",
    "    def __init__(self, name=\"DiscriminatorLoss\"):\n",
    "        print(\"discloss\")\n",
    "        super().__init__(name=name)\n",
    "\n",
    "    def call(self, y_true, y_pred):\n",
    "        return discriminator_loss(y_true, y_pred)\n",
    "\n",
    "\n",
    "boundaries = [steps_per_epoch*10, steps_per_epoch*25, steps_per_epoch*60, steps_per_epoch*90, steps_per_epoch*95]\n",
    "values = [0.001, 0.00075, 0.0005, 0.0001, 0.00005, 0.00001]\n",
    "learning_rate_fn = keras.optimizers.schedules.PiecewiseConstantDecay(\n",
    "    boundaries, values)\n",
    "\n",
    "cross_entropy = tf.keras.losses.BinaryCrossentropy()\n",
    "opt = tf.keras.optimizers.Adam(learning_rate=learning_rate_fn)\n",
    "# opt = tf.keras.optimizers.Adam(learning_rate=0.001)\n",
    "\n",
    "# model.compile(run_eagerly=True)\n",
    "#\n",
    "generator.compile(loss=\"mse\", optimizer=opt, metrics=[\"mse\", \"accuracy\", SSIM()])\n",
    "generator.fit(dm.get_training_data(BATCH_SIZE).repeat(), epochs=epochs, steps_per_epoch=steps_per_epoch, validation_data=dm.get_test_data(BATCH_SIZE), callbacks=[SkMetrics(), tboard_callback])\n",
    "generator.encoder.trainable = False\n"
   ]
  },
  {
   "cell_type": "code",
   "execution_count": 20,
   "metadata": {},
   "outputs": [
    {
     "name": "stdout",
     "output_type": "stream",
     "text": [
      "t=[[-4.396401 ]\n",
      " [-5.3071184]\n",
      " [-4.182852 ]\n",
      " [-3.7709558]\n",
      " [-4.5003576]]\n",
      "f=[[-3.2515943]\n",
      " [-4.1831484]\n",
      " [-2.782238 ]\n",
      " [-2.6682422]\n",
      " [-3.8942657]]\n"
     ]
    },
    {
     "data": {
      "image/png": "[encoded data removed]",
      "text/plain": [
       "<Figure size 1000x400 with 10 Axes>"
      ]
     },
     "metadata": {},
     "output_type": "display_data"
    },
    {
     "name": "stdout",
     "output_type": "stream",
     "text": [
      "500/500 [==============================] - 28s 55ms/step - mse: 0.1226 - accuracy: 0.5439 - ssim: 0.9303 - gen_loss: 15.5527 - disc_loss: 15.4249 - val_mse: 0.1160 - val_accuracy: 0.5357 - val_ssim: 0.8326 - val_gen_loss: 15.5409 - val_disc_loss: 15.4249\n",
      "Epoch 60/100\n",
      "227/500 [============>.................] - ETA: 13s - mse: 0.1226 - accuracy: 0.5439 - ssim: 0.9279 - gen_loss: 15.5527 - disc_loss: 15.4250"
     ]
    },
    {
     "ename": "KeyboardInterrupt",
     "evalue": "",
     "output_type": "error",
     "traceback": [
      "\u001b[0;31m---------------------------------------------------------------------------\u001b[0m",
      "\u001b[0;31mKeyboardInterrupt\u001b[0m                         Traceback (most recent call last)",
      "Cell \u001b[0;32mIn [20], line 3\u001b[0m\n\u001b[1;32m      1\u001b[0m model \u001b[38;5;241m=\u001b[39m GAN(generator, discriminator)\n\u001b[1;32m      2\u001b[0m model\u001b[38;5;241m.\u001b[39mcompile(metrics\u001b[38;5;241m=\u001b[39m[\u001b[38;5;124m\"\u001b[39m\u001b[38;5;124mmse\u001b[39m\u001b[38;5;124m\"\u001b[39m, \u001b[38;5;124m\"\u001b[39m\u001b[38;5;124maccuracy\u001b[39m\u001b[38;5;124m\"\u001b[39m, SSIM()])\n\u001b[0;32m----> 3\u001b[0m history \u001b[38;5;241m=\u001b[39m \u001b[43mmodel\u001b[49m\u001b[38;5;241;43m.\u001b[39;49m\u001b[43mfit\u001b[49m\u001b[43m(\u001b[49m\u001b[43mdm\u001b[49m\u001b[38;5;241;43m.\u001b[39;49m\u001b[43mget_training_data\u001b[49m\u001b[43m(\u001b[49m\u001b[43mBATCH_SIZE\u001b[49m\u001b[43m)\u001b[49m\u001b[38;5;241;43m.\u001b[39;49m\u001b[43mrepeat\u001b[49m\u001b[43m(\u001b[49m\u001b[43m)\u001b[49m\u001b[43m,\u001b[49m\u001b[43m \u001b[49m\u001b[43mepochs\u001b[49m\u001b[38;5;241;43m=\u001b[39;49m\u001b[43mepochs\u001b[49m\u001b[43m,\u001b[49m\u001b[43m \u001b[49m\u001b[43msteps_per_epoch\u001b[49m\u001b[38;5;241;43m=\u001b[39;49m\u001b[43msteps_per_epoch\u001b[49m\u001b[43m,\u001b[49m\u001b[43m \u001b[49m\u001b[43mvalidation_data\u001b[49m\u001b[38;5;241;43m=\u001b[39;49m\u001b[43mdm\u001b[49m\u001b[38;5;241;43m.\u001b[39;49m\u001b[43mget_test_data\u001b[49m\u001b[43m(\u001b[49m\u001b[43mBATCH_SIZE\u001b[49m\u001b[43m)\u001b[49m\u001b[43m,\u001b[49m\u001b[43m \u001b[49m\u001b[43mcallbacks\u001b[49m\u001b[38;5;241;43m=\u001b[39;49m\u001b[43m[\u001b[49m\u001b[43mSkMetrics\u001b[49m\u001b[43m(\u001b[49m\u001b[43m)\u001b[49m\u001b[43m,\u001b[49m\u001b[43m \u001b[49m\u001b[43mtboard_callback\u001b[49m\u001b[43m]\u001b[49m\u001b[43m)\u001b[49m\n",
      "File \u001b[0;32m~/miniconda3/envs/ml2/lib/python3.8/site-packages/keras/utils/traceback_utils.py:65\u001b[0m, in \u001b[0;36mfilter_traceback.<locals>.error_handler\u001b[0;34m(*args, **kwargs)\u001b[0m\n\u001b[1;32m     63\u001b[0m filtered_tb \u001b[38;5;241m=\u001b[39m \u001b[38;5;28;01mNone\u001b[39;00m\n\u001b[1;32m     64\u001b[0m \u001b[38;5;28;01mtry\u001b[39;00m:\n\u001b[0;32m---> 65\u001b[0m     \u001b[38;5;28;01mreturn\u001b[39;00m \u001b[43mfn\u001b[49m\u001b[43m(\u001b[49m\u001b[38;5;241;43m*\u001b[39;49m\u001b[43margs\u001b[49m\u001b[43m,\u001b[49m\u001b[43m \u001b[49m\u001b[38;5;241;43m*\u001b[39;49m\u001b[38;5;241;43m*\u001b[39;49m\u001b[43mkwargs\u001b[49m\u001b[43m)\u001b[49m\n\u001b[1;32m     66\u001b[0m \u001b[38;5;28;01mexcept\u001b[39;00m \u001b[38;5;167;01mException\u001b[39;00m \u001b[38;5;28;01mas\u001b[39;00m e:\n\u001b[1;32m     67\u001b[0m     filtered_tb \u001b[38;5;241m=\u001b[39m _process_traceback_frames(e\u001b[38;5;241m.\u001b[39m__traceback__)\n",
      "File \u001b[0;32m~/miniconda3/envs/ml2/lib/python3.8/site-packages/keras/engine/training.py:1564\u001b[0m, in \u001b[0;36mModel.fit\u001b[0;34m(self, x, y, batch_size, epochs, verbose, callbacks, validation_split, validation_data, shuffle, class_weight, sample_weight, initial_epoch, steps_per_epoch, validation_steps, validation_batch_size, validation_freq, max_queue_size, workers, use_multiprocessing)\u001b[0m\n\u001b[1;32m   1556\u001b[0m \u001b[38;5;28;01mwith\u001b[39;00m tf\u001b[38;5;241m.\u001b[39mprofiler\u001b[38;5;241m.\u001b[39mexperimental\u001b[38;5;241m.\u001b[39mTrace(\n\u001b[1;32m   1557\u001b[0m     \u001b[38;5;124m\"\u001b[39m\u001b[38;5;124mtrain\u001b[39m\u001b[38;5;124m\"\u001b[39m,\n\u001b[1;32m   1558\u001b[0m     epoch_num\u001b[38;5;241m=\u001b[39mepoch,\n\u001b[0;32m   (...)\u001b[0m\n\u001b[1;32m   1561\u001b[0m     _r\u001b[38;5;241m=\u001b[39m\u001b[38;5;241m1\u001b[39m,\n\u001b[1;32m   1562\u001b[0m ):\n\u001b[1;32m   1563\u001b[0m     callbacks\u001b[38;5;241m.\u001b[39mon_train_batch_begin(step)\n\u001b[0;32m-> 1564\u001b[0m     tmp_logs \u001b[38;5;241m=\u001b[39m \u001b[38;5;28;43mself\u001b[39;49m\u001b[38;5;241;43m.\u001b[39;49m\u001b[43mtrain_function\u001b[49m\u001b[43m(\u001b[49m\u001b[43miterator\u001b[49m\u001b[43m)\u001b[49m\n\u001b[1;32m   1565\u001b[0m     \u001b[38;5;28;01mif\u001b[39;00m data_handler\u001b[38;5;241m.\u001b[39mshould_sync:\n\u001b[1;32m   1566\u001b[0m         context\u001b[38;5;241m.\u001b[39masync_wait()\n",
      "File \u001b[0;32m~/miniconda3/envs/ml2/lib/python3.8/site-packages/tensorflow/python/util/traceback_utils.py:150\u001b[0m, in \u001b[0;36mfilter_traceback.<locals>.error_handler\u001b[0;34m(*args, **kwargs)\u001b[0m\n\u001b[1;32m    148\u001b[0m filtered_tb \u001b[38;5;241m=\u001b[39m \u001b[38;5;28;01mNone\u001b[39;00m\n\u001b[1;32m    149\u001b[0m \u001b[38;5;28;01mtry\u001b[39;00m:\n\u001b[0;32m--> 150\u001b[0m   \u001b[38;5;28;01mreturn\u001b[39;00m \u001b[43mfn\u001b[49m\u001b[43m(\u001b[49m\u001b[38;5;241;43m*\u001b[39;49m\u001b[43margs\u001b[49m\u001b[43m,\u001b[49m\u001b[43m \u001b[49m\u001b[38;5;241;43m*\u001b[39;49m\u001b[38;5;241;43m*\u001b[39;49m\u001b[43mkwargs\u001b[49m\u001b[43m)\u001b[49m\n\u001b[1;32m    151\u001b[0m \u001b[38;5;28;01mexcept\u001b[39;00m \u001b[38;5;167;01mException\u001b[39;00m \u001b[38;5;28;01mas\u001b[39;00m e:\n\u001b[1;32m    152\u001b[0m   filtered_tb \u001b[38;5;241m=\u001b[39m _process_traceback_frames(e\u001b[38;5;241m.\u001b[39m__traceback__)\n",
      "File \u001b[0;32m~/miniconda3/envs/ml2/lib/python3.8/site-packages/tensorflow/python/eager/def_function.py:915\u001b[0m, in \u001b[0;36mFunction.__call__\u001b[0;34m(self, *args, **kwds)\u001b[0m\n\u001b[1;32m    912\u001b[0m compiler \u001b[38;5;241m=\u001b[39m \u001b[38;5;124m\"\u001b[39m\u001b[38;5;124mxla\u001b[39m\u001b[38;5;124m\"\u001b[39m \u001b[38;5;28;01mif\u001b[39;00m \u001b[38;5;28mself\u001b[39m\u001b[38;5;241m.\u001b[39m_jit_compile \u001b[38;5;28;01melse\u001b[39;00m \u001b[38;5;124m\"\u001b[39m\u001b[38;5;124mnonXla\u001b[39m\u001b[38;5;124m\"\u001b[39m\n\u001b[1;32m    914\u001b[0m \u001b[38;5;28;01mwith\u001b[39;00m OptionalXlaContext(\u001b[38;5;28mself\u001b[39m\u001b[38;5;241m.\u001b[39m_jit_compile):\n\u001b[0;32m--> 915\u001b[0m   result \u001b[38;5;241m=\u001b[39m \u001b[38;5;28;43mself\u001b[39;49m\u001b[38;5;241;43m.\u001b[39;49m\u001b[43m_call\u001b[49m\u001b[43m(\u001b[49m\u001b[38;5;241;43m*\u001b[39;49m\u001b[43margs\u001b[49m\u001b[43m,\u001b[49m\u001b[43m \u001b[49m\u001b[38;5;241;43m*\u001b[39;49m\u001b[38;5;241;43m*\u001b[39;49m\u001b[43mkwds\u001b[49m\u001b[43m)\u001b[49m\n\u001b[1;32m    917\u001b[0m new_tracing_count \u001b[38;5;241m=\u001b[39m \u001b[38;5;28mself\u001b[39m\u001b[38;5;241m.\u001b[39mexperimental_get_tracing_count()\n\u001b[1;32m    918\u001b[0m without_tracing \u001b[38;5;241m=\u001b[39m (tracing_count \u001b[38;5;241m==\u001b[39m new_tracing_count)\n",
      "File \u001b[0;32m~/miniconda3/envs/ml2/lib/python3.8/site-packages/tensorflow/python/eager/def_function.py:947\u001b[0m, in \u001b[0;36mFunction._call\u001b[0;34m(self, *args, **kwds)\u001b[0m\n\u001b[1;32m    944\u001b[0m   \u001b[38;5;28mself\u001b[39m\u001b[38;5;241m.\u001b[39m_lock\u001b[38;5;241m.\u001b[39mrelease()\n\u001b[1;32m    945\u001b[0m   \u001b[38;5;66;03m# In this case we have created variables on the first call, so we run the\u001b[39;00m\n\u001b[1;32m    946\u001b[0m   \u001b[38;5;66;03m# defunned version which is guaranteed to never create variables.\u001b[39;00m\n\u001b[0;32m--> 947\u001b[0m   \u001b[38;5;28;01mreturn\u001b[39;00m \u001b[38;5;28;43mself\u001b[39;49m\u001b[38;5;241;43m.\u001b[39;49m\u001b[43m_stateless_fn\u001b[49m\u001b[43m(\u001b[49m\u001b[38;5;241;43m*\u001b[39;49m\u001b[43margs\u001b[49m\u001b[43m,\u001b[49m\u001b[43m \u001b[49m\u001b[38;5;241;43m*\u001b[39;49m\u001b[38;5;241;43m*\u001b[39;49m\u001b[43mkwds\u001b[49m\u001b[43m)\u001b[49m  \u001b[38;5;66;03m# pylint: disable=not-callable\u001b[39;00m\n\u001b[1;32m    948\u001b[0m \u001b[38;5;28;01melif\u001b[39;00m \u001b[38;5;28mself\u001b[39m\u001b[38;5;241m.\u001b[39m_stateful_fn \u001b[38;5;129;01mis\u001b[39;00m \u001b[38;5;129;01mnot\u001b[39;00m \u001b[38;5;28;01mNone\u001b[39;00m:\n\u001b[1;32m    949\u001b[0m   \u001b[38;5;66;03m# Release the lock early so that multiple threads can perform the call\u001b[39;00m\n\u001b[1;32m    950\u001b[0m   \u001b[38;5;66;03m# in parallel.\u001b[39;00m\n\u001b[1;32m    951\u001b[0m   \u001b[38;5;28mself\u001b[39m\u001b[38;5;241m.\u001b[39m_lock\u001b[38;5;241m.\u001b[39mrelease()\n",
      "File \u001b[0;32m~/miniconda3/envs/ml2/lib/python3.8/site-packages/tensorflow/python/eager/function.py:2496\u001b[0m, in \u001b[0;36mFunction.__call__\u001b[0;34m(self, *args, **kwargs)\u001b[0m\n\u001b[1;32m   2493\u001b[0m \u001b[38;5;28;01mwith\u001b[39;00m \u001b[38;5;28mself\u001b[39m\u001b[38;5;241m.\u001b[39m_lock:\n\u001b[1;32m   2494\u001b[0m   (graph_function,\n\u001b[1;32m   2495\u001b[0m    filtered_flat_args) \u001b[38;5;241m=\u001b[39m \u001b[38;5;28mself\u001b[39m\u001b[38;5;241m.\u001b[39m_maybe_define_function(args, kwargs)\n\u001b[0;32m-> 2496\u001b[0m \u001b[38;5;28;01mreturn\u001b[39;00m \u001b[43mgraph_function\u001b[49m\u001b[38;5;241;43m.\u001b[39;49m\u001b[43m_call_flat\u001b[49m\u001b[43m(\u001b[49m\n\u001b[1;32m   2497\u001b[0m \u001b[43m    \u001b[49m\u001b[43mfiltered_flat_args\u001b[49m\u001b[43m,\u001b[49m\u001b[43m \u001b[49m\u001b[43mcaptured_inputs\u001b[49m\u001b[38;5;241;43m=\u001b[39;49m\u001b[43mgraph_function\u001b[49m\u001b[38;5;241;43m.\u001b[39;49m\u001b[43mcaptured_inputs\u001b[49m\u001b[43m)\u001b[49m\n",
      "File \u001b[0;32m~/miniconda3/envs/ml2/lib/python3.8/site-packages/tensorflow/python/eager/function.py:1862\u001b[0m, in \u001b[0;36mConcreteFunction._call_flat\u001b[0;34m(self, args, captured_inputs, cancellation_manager)\u001b[0m\n\u001b[1;32m   1858\u001b[0m possible_gradient_type \u001b[38;5;241m=\u001b[39m gradients_util\u001b[38;5;241m.\u001b[39mPossibleTapeGradientTypes(args)\n\u001b[1;32m   1859\u001b[0m \u001b[38;5;28;01mif\u001b[39;00m (possible_gradient_type \u001b[38;5;241m==\u001b[39m gradients_util\u001b[38;5;241m.\u001b[39mPOSSIBLE_GRADIENT_TYPES_NONE\n\u001b[1;32m   1860\u001b[0m     \u001b[38;5;129;01mand\u001b[39;00m executing_eagerly):\n\u001b[1;32m   1861\u001b[0m   \u001b[38;5;66;03m# No tape is watching; skip to running the function.\u001b[39;00m\n\u001b[0;32m-> 1862\u001b[0m   \u001b[38;5;28;01mreturn\u001b[39;00m \u001b[38;5;28mself\u001b[39m\u001b[38;5;241m.\u001b[39m_build_call_outputs(\u001b[38;5;28;43mself\u001b[39;49m\u001b[38;5;241;43m.\u001b[39;49m\u001b[43m_inference_function\u001b[49m\u001b[38;5;241;43m.\u001b[39;49m\u001b[43mcall\u001b[49m\u001b[43m(\u001b[49m\n\u001b[1;32m   1863\u001b[0m \u001b[43m      \u001b[49m\u001b[43mctx\u001b[49m\u001b[43m,\u001b[49m\u001b[43m \u001b[49m\u001b[43margs\u001b[49m\u001b[43m,\u001b[49m\u001b[43m \u001b[49m\u001b[43mcancellation_manager\u001b[49m\u001b[38;5;241;43m=\u001b[39;49m\u001b[43mcancellation_manager\u001b[49m\u001b[43m)\u001b[49m)\n\u001b[1;32m   1864\u001b[0m forward_backward \u001b[38;5;241m=\u001b[39m \u001b[38;5;28mself\u001b[39m\u001b[38;5;241m.\u001b[39m_select_forward_and_backward_functions(\n\u001b[1;32m   1865\u001b[0m     args,\n\u001b[1;32m   1866\u001b[0m     possible_gradient_type,\n\u001b[1;32m   1867\u001b[0m     executing_eagerly)\n\u001b[1;32m   1868\u001b[0m forward_function, args_with_tangents \u001b[38;5;241m=\u001b[39m forward_backward\u001b[38;5;241m.\u001b[39mforward()\n",
      "File \u001b[0;32m~/miniconda3/envs/ml2/lib/python3.8/site-packages/tensorflow/python/eager/function.py:499\u001b[0m, in \u001b[0;36m_EagerDefinedFunction.call\u001b[0;34m(self, ctx, args, cancellation_manager)\u001b[0m\n\u001b[1;32m    497\u001b[0m \u001b[38;5;28;01mwith\u001b[39;00m _InterpolateFunctionError(\u001b[38;5;28mself\u001b[39m):\n\u001b[1;32m    498\u001b[0m   \u001b[38;5;28;01mif\u001b[39;00m cancellation_manager \u001b[38;5;129;01mis\u001b[39;00m \u001b[38;5;28;01mNone\u001b[39;00m:\n\u001b[0;32m--> 499\u001b[0m     outputs \u001b[38;5;241m=\u001b[39m \u001b[43mexecute\u001b[49m\u001b[38;5;241;43m.\u001b[39;49m\u001b[43mexecute\u001b[49m\u001b[43m(\u001b[49m\n\u001b[1;32m    500\u001b[0m \u001b[43m        \u001b[49m\u001b[38;5;28;43mstr\u001b[39;49m\u001b[43m(\u001b[49m\u001b[38;5;28;43mself\u001b[39;49m\u001b[38;5;241;43m.\u001b[39;49m\u001b[43msignature\u001b[49m\u001b[38;5;241;43m.\u001b[39;49m\u001b[43mname\u001b[49m\u001b[43m)\u001b[49m\u001b[43m,\u001b[49m\n\u001b[1;32m    501\u001b[0m \u001b[43m        \u001b[49m\u001b[43mnum_outputs\u001b[49m\u001b[38;5;241;43m=\u001b[39;49m\u001b[38;5;28;43mself\u001b[39;49m\u001b[38;5;241;43m.\u001b[39;49m\u001b[43m_num_outputs\u001b[49m\u001b[43m,\u001b[49m\n\u001b[1;32m    502\u001b[0m \u001b[43m        \u001b[49m\u001b[43minputs\u001b[49m\u001b[38;5;241;43m=\u001b[39;49m\u001b[43margs\u001b[49m\u001b[43m,\u001b[49m\n\u001b[1;32m    503\u001b[0m \u001b[43m        \u001b[49m\u001b[43mattrs\u001b[49m\u001b[38;5;241;43m=\u001b[39;49m\u001b[43mattrs\u001b[49m\u001b[43m,\u001b[49m\n\u001b[1;32m    504\u001b[0m \u001b[43m        \u001b[49m\u001b[43mctx\u001b[49m\u001b[38;5;241;43m=\u001b[39;49m\u001b[43mctx\u001b[49m\u001b[43m)\u001b[49m\n\u001b[1;32m    505\u001b[0m   \u001b[38;5;28;01melse\u001b[39;00m:\n\u001b[1;32m    506\u001b[0m     outputs \u001b[38;5;241m=\u001b[39m execute\u001b[38;5;241m.\u001b[39mexecute_with_cancellation(\n\u001b[1;32m    507\u001b[0m         \u001b[38;5;28mstr\u001b[39m(\u001b[38;5;28mself\u001b[39m\u001b[38;5;241m.\u001b[39msignature\u001b[38;5;241m.\u001b[39mname),\n\u001b[1;32m    508\u001b[0m         num_outputs\u001b[38;5;241m=\u001b[39m\u001b[38;5;28mself\u001b[39m\u001b[38;5;241m.\u001b[39m_num_outputs,\n\u001b[0;32m   (...)\u001b[0m\n\u001b[1;32m    511\u001b[0m         ctx\u001b[38;5;241m=\u001b[39mctx,\n\u001b[1;32m    512\u001b[0m         cancellation_manager\u001b[38;5;241m=\u001b[39mcancellation_manager)\n",
      "File \u001b[0;32m~/miniconda3/envs/ml2/lib/python3.8/site-packages/tensorflow/python/eager/execute.py:54\u001b[0m, in \u001b[0;36mquick_execute\u001b[0;34m(op_name, num_outputs, inputs, attrs, ctx, name)\u001b[0m\n\u001b[1;32m     52\u001b[0m \u001b[38;5;28;01mtry\u001b[39;00m:\n\u001b[1;32m     53\u001b[0m   ctx\u001b[38;5;241m.\u001b[39mensure_initialized()\n\u001b[0;32m---> 54\u001b[0m   tensors \u001b[38;5;241m=\u001b[39m \u001b[43mpywrap_tfe\u001b[49m\u001b[38;5;241;43m.\u001b[39;49m\u001b[43mTFE_Py_Execute\u001b[49m\u001b[43m(\u001b[49m\u001b[43mctx\u001b[49m\u001b[38;5;241;43m.\u001b[39;49m\u001b[43m_handle\u001b[49m\u001b[43m,\u001b[49m\u001b[43m \u001b[49m\u001b[43mdevice_name\u001b[49m\u001b[43m,\u001b[49m\u001b[43m \u001b[49m\u001b[43mop_name\u001b[49m\u001b[43m,\u001b[49m\n\u001b[1;32m     55\u001b[0m \u001b[43m                                      \u001b[49m\u001b[43minputs\u001b[49m\u001b[43m,\u001b[49m\u001b[43m \u001b[49m\u001b[43mattrs\u001b[49m\u001b[43m,\u001b[49m\u001b[43m \u001b[49m\u001b[43mnum_outputs\u001b[49m\u001b[43m)\u001b[49m\n\u001b[1;32m     56\u001b[0m \u001b[38;5;28;01mexcept\u001b[39;00m core\u001b[38;5;241m.\u001b[39m_NotOkStatusException \u001b[38;5;28;01mas\u001b[39;00m e:\n\u001b[1;32m     57\u001b[0m   \u001b[38;5;28;01mif\u001b[39;00m name \u001b[38;5;129;01mis\u001b[39;00m \u001b[38;5;129;01mnot\u001b[39;00m \u001b[38;5;28;01mNone\u001b[39;00m:\n",
      "\u001b[0;31mKeyboardInterrupt\u001b[0m: "
     ]
    }
   ],
   "source": [
    "model = GAN(generator, discriminator)\n",
    "model.compile(metrics=[\"mse\", \"accuracy\", SSIM()])\n",
    "history = model.fit(dm.get_training_data(BATCH_SIZE).repeat(), epochs=epochs, steps_per_epoch=steps_per_epoch, validation_data=dm.get_test_data(BATCH_SIZE), callbacks=[SkMetrics(), tboard_callback])\n"
   ]
  },
  {
   "cell_type": "code",
   "execution_count": null,
   "metadata": {},
   "outputs": [],
   "source": [
    "n = next(iter(dm.get_test_data(BATCH_SIZE)))\n",
    "resized, images =n\n",
    "p = model(n)\n",
    "p1, p2 = p\n",
    "\n",
    "\n",
    "plt.figure()\n",
    "plt.imshow(resized[1])\n",
    "\n",
    "plt.figure()\n",
    "plt.imshow(p1[1])\n",
    "\n",
    "plt.figure()\n",
    "plt.imshow(p2[1])"
   ]
  },
  {
   "cell_type": "code",
   "execution_count": null,
   "metadata": {},
   "outputs": [],
   "source": []
  }
 ],
 "metadata": {
  "kernelspec": {
   "display_name": "ml2",
   "language": "python",
   "name": "ml2"
  },
  "language_info": {
   "codemirror_mode": {
    "name": "ipython",
    "version": 3
   },
   "file_extension": ".py",
   "mimetype": "text/x-python",
   "name": "python",
   "nbconvert_exporter": "python",
   "pygments_lexer": "ipython3",
   "version": "3.8.12"
  },
  "vscode": {
   "interpreter": {
    "hash": "4327198819dafd55a2243f22aba11bf2a7d9f0c32aced8ba7d18a900e49d0553"
   }
  }
 },
 "nbformat": 4,
 "nbformat_minor": 2
}
